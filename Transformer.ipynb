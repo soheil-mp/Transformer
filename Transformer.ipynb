{
 "cells": [
  {
   "cell_type": "markdown",
   "metadata": {},
   "source": [
    "<br>\n",
    "\n",
    "<h1 style=\"text-align:center\">Transformer</h1>"
   ]
  },
  {
   "cell_type": "markdown",
   "metadata": {},
   "source": [
    "<br>\n",
    "\n",
    "### Initial Deployment\n",
    "\n",
    "---"
   ]
  },
  {
   "cell_type": "code",
   "execution_count": 10,
   "metadata": {},
   "outputs": [],
   "source": [
    "# Import the libraries\n",
    "import warnings, json, collections, tqdm, os\n",
    "import matplotlib.pyplot as plt\n",
    "import numpy as np\n",
    "import pandas as pd\n",
    "import tensorflow as tf"
   ]
  },
  {
   "cell_type": "code",
   "execution_count": 11,
   "metadata": {},
   "outputs": [],
   "source": [
    "# Turn off all warnings\n",
    "warnings.filterwarnings('ignore')"
   ]
  },
  {
   "cell_type": "code",
   "execution_count": 12,
   "metadata": {},
   "outputs": [],
   "source": [
    "# Set matplotlib style\n",
    "plt.style.use('ggplot')"
   ]
  },
  {
   "cell_type": "markdown",
   "metadata": {},
   "source": [
    "<br>\n",
    "\n",
    "### Hyperparameters\n",
    "\n",
    "---"
   ]
  },
  {
   "cell_type": "code",
   "execution_count": 13,
   "metadata": {},
   "outputs": [],
   "source": [
    "# Hyperparameters\n",
    "BATCH_SIZE = 32\n",
    "DATA_SHUFFLE = 1000\n",
    "DATA_REPEAT = 1\n",
    "MAX_TOKENS = 100000\n",
    "MAX_SEQ_LENGTH = 50"
   ]
  },
  {
   "cell_type": "code",
   "execution_count": 14,
   "metadata": {},
   "outputs": [
    {
     "data": {
      "text/plain": [
       "[PhysicalDevice(name='/physical_device:GPU:0', device_type='GPU')]"
      ]
     },
     "execution_count": 14,
     "metadata": {},
     "output_type": "execute_result"
    }
   ],
   "source": [
    "# Make sure GPU is available\n",
    "tf.config.list_physical_devices('GPU')"
   ]
  },
  {
   "cell_type": "markdown",
   "metadata": {},
   "source": [
    "<br>\n",
    "\n",
    "### Dataset Pipeline\n",
    "\n",
    "---"
   ]
  },
  {
   "cell_type": "code",
   "execution_count": 15,
   "metadata": {},
   "outputs": [],
   "source": [
    "# TODO: Add <START>, <END> and <PAD> tags in the begining/end of sequences.\n",
    "# TODO: Finalize the dataset\n",
    "# TODO: Add an extra step for pre-training\n",
    "# TODO: Optimize the data loading steps\n",
    "# TODO: Bucketization step\n",
    "# TODO: Hyperparameter tunning"
   ]
  },
  {
   "cell_type": "code",
   "execution_count": 45,
   "metadata": {},
   "outputs": [],
   "source": [
    "# Load the dataset\n",
    "data = tf.data.TextLineDataset(\"./../dataset/full_dataset.tsv\", num_parallel_reads=tf.data.AUTOTUNE)\n",
    "\n",
    "# Split the text by tabs\n",
    "data = data.map(lambda x: tf.strings.split(x, '\\t'))\n",
    "\n",
    "# Ignore the first row (column name)\n",
    "data = data.skip(1)\n",
    "\n",
    "# Set UTF-8 encoding\n",
    "data = data.map(lambda x: (tf.strings.unicode_encode(x[0], 'UTF-8'), tf.strings.unicode_encode(x[1], 'UTF-8')))"
   ]
  },
  {
   "cell_type": "code",
   "execution_count": 46,
   "metadata": {},
   "outputs": [
    {
     "name": "stdout",
     "output_type": "stream",
     "text": [
      "tf.Tensor([b'When did Beyonce start becoming popular?' b'in the late 1990s'], shape=(2,), dtype=string)\n",
      "tf.Tensor(\n",
      "[b'What areas did Beyonce compete in when she was growing up?'\n",
      " b'singing and dancing'], shape=(2,), dtype=string)\n",
      "tf.Tensor(\n",
      "[b\"When did Beyonce leave Destiny's Child and become a solo singer?\"\n",
      " b'2003'], shape=(2,), dtype=string)\n",
      "tf.Tensor([b'In what city and state did Beyonce  grow up? ' b'Houston, Texas'], shape=(2,), dtype=string)\n",
      "tf.Tensor([b'In which decade did Beyonce become famous?' b'late 1990s'], shape=(2,), dtype=string)\n",
      "tf.Tensor([b'In what R&B group was she the lead singer?' b\"Destiny's Child\"], shape=(2,), dtype=string)\n",
      "tf.Tensor([b'What album made her a worldwide known artist?' b'Dangerously in Love'], shape=(2,), dtype=string)\n",
      "tf.Tensor([b\"Who managed the Destiny's Child group?\" b'Mathew Knowles'], shape=(2,), dtype=string)\n",
      "tf.Tensor([b'When did Beyonc\\xc3\\xa9 rise to fame?' b'late 1990s'], shape=(2,), dtype=string)\n",
      "tf.Tensor([b\"What role did Beyonc\\xc3\\xa9 have in Destiny's Child?\" b'lead singer'], shape=(2,), dtype=string)\n",
      "tf.Tensor(\n",
      "[b'What was the first album Beyonc\\xc3\\xa9 released as a solo artist?'\n",
      " b'Dangerously in Love'], shape=(2,), dtype=string)\n",
      "tf.Tensor([b'When did Beyonc\\xc3\\xa9 release Dangerously in Love?' b'2003'], shape=(2,), dtype=string)\n",
      "tf.Tensor(\n",
      "[b'How many Grammy awards did Beyonc\\xc3\\xa9 win for her first solo album?'\n",
      " b'five'], shape=(2,), dtype=string)\n",
      "tf.Tensor([b\"What was Beyonc\\xc3\\xa9's role in Destiny's Child?\" b'lead singer'], shape=(2,), dtype=string)\n",
      "tf.Tensor(\n",
      "[b\"What was the name of Beyonc\\xc3\\xa9's first solo album?\"\n",
      " b'Dangerously in Love'], shape=(2,), dtype=string)\n",
      "tf.Tensor(\n",
      "[b'After her second solo album, what other entertainment venture did Beyonce explore?'\n",
      " b'acting'], shape=(2,), dtype=string)\n",
      "tf.Tensor([b'Which artist did Beyonce marry?' b'Jay Z'], shape=(2,), dtype=string)\n",
      "tf.Tensor([b'To set the record for Grammys, how many did Beyonce win?' b'six'], shape=(2,), dtype=string)\n",
      "tf.Tensor(\n",
      "[b'For what movie did Beyonce receive  her first Golden Globe nomination?'\n",
      " b'Dreamgirls'], shape=(2,), dtype=string)\n"
     ]
    }
   ],
   "source": [
    "for i in data.take(19):\n",
    "    print(i)\n",
    "    if i.numpy()[0]==\"\\'\":\n",
    "        print(\"\\n\\n\")"
   ]
  },
  {
   "cell_type": "code",
   "execution_count": null,
   "metadata": {},
   "outputs": [],
   "source": [
    "# # Make a generator to read the data\n",
    "# def data_generator():\n",
    "\n",
    "#     # Loop over paths\n",
    "#     for i_path in [\"./../dataset/full_dataset.csv\"]:\n",
    "            \n",
    "#         # Open the file\n",
    "#         with open(i_path, mode='r', encoding='utf8') as file:\n",
    "            \n",
    "#             # Loop over lines\n",
    "#             for i_line in file:\n",
    "\n",
    "#                 # Ignore the first line\n",
    "#                 if i_line.startswith(\"index\"):  continue\n",
    "\n",
    "#                 # Split the line\n",
    "#                 i_line = i_line.split(\"\\t\")\n",
    "\n",
    "#                 # Set input/output\n",
    "#                 input_data = i_line[1]\n",
    "#                 output_data = i_line[2]\n",
    "\n",
    "#                 # Add starting/ending tags\n",
    "#                 input_data = \"<START> \" + input_data + \" <END>\"\n",
    "#                 output_data = \"<START> \" + output_data + \" <END>\"\n",
    "\n",
    "#                 # Yield the line\n",
    "#                 yield (input_data, output_data)\n",
    "\n",
    "\n",
    "# # Data generator\n",
    "# data_g = data_generator()\n",
    "\n",
    "# # Convert to tf.data\n",
    "# data = tf.data.Dataset.from_generator(\n",
    "#     data_generator, \n",
    "#     output_signature=(\n",
    "#         tf.TensorSpec(shape=(), dtype=tf.string),\n",
    "#         tf.TensorSpec(shape=(), dtype=tf.string)\n",
    "#         ),\n",
    "#         )\n",
    "\n",
    "# # Bucketize data\n",
    "# # data = data.bucket_by_sequence_length(element_length_func=lambda elem: tf.shape(elem)[0],\n",
    "# #                                       bucket_boundaries=[3, 5],\n",
    "# #                                       bucket_BATCH_SIZEs=[2, 2, 2])\n",
    "\n",
    "# # Print a sample\n",
    "# for i_record in data.take(1):\n",
    "#     print(i_record)\n"
   ]
  },
  {
   "cell_type": "code",
   "execution_count": null,
   "metadata": {},
   "outputs": [],
   "source": [
    "# TODO: Function for custom standarization\n",
    "# TODO: Maybe use NLTK tokenizer\n",
    "# def custom_standardization(input_string):\n",
    "#     lowercased = tf.strings.lower(input_string)\n",
    "#     stripped_html = tf.strings.regex_replace(lowercased, \"<br />\", \" \")\n",
    "#     return tf.strings.regex_replace(stripped_html, f\"([{string.punctuation}])\", r\" \\1\")               "
   ]
  },
  {
   "cell_type": "code",
   "execution_count": 47,
   "metadata": {},
   "outputs": [
    {
     "name": "stdout",
     "output_type": "stream",
     "text": [
      "Vocabulary Size:  100000\n"
     ]
    }
   ],
   "source": [
    "# Text vectorizer \n",
    "vectorize_layer = tf.keras.layers.TextVectorization(standardize='lower_and_strip_punctuation', \n",
    "                                                    split='whitespace', \n",
    "                                                    ngrams=None, \n",
    "                                                    output_mode='int', \n",
    "                                                    output_sequence_length=MAX_SEQ_LENGTH, \n",
    "                                                    pad_to_max_tokens=True, \n",
    "                                                    max_tokens=MAX_TOKENS, \n",
    "                                                    idf_weights=None, \n",
    "                                                    sparse=False, \n",
    "                                                    ragged=False)\n",
    "\n",
    "# Adapt the vectorizer to the data\n",
    "vectorize_layer.adapt(data)\n",
    "print(\"Vocabulary Size: \", vectorize_layer.vocabulary_size())"
   ]
  },
  {
   "cell_type": "code",
   "execution_count": 49,
   "metadata": {},
   "outputs": [
    {
     "name": "stdout",
     "output_type": "stream",
     "text": [
      "tf.Tensor(\n",
      "[[  34   22 3147  612 1503  243    0    0    0    0    0    0    0    0\n",
      "     0    0    0    0    0    0    0    0    0    0    0    0    0    0\n",
      "     0    0    0    0    0    0    0    0    0    0    0    0    0    0\n",
      "     0    0    0    0    0    0    0    0]\n",
      " [   4    2  439 1765    0    0    0    0    0    0    0    0    0    0\n",
      "     0    0    0    0    0    0    0    0    0    0    0    0    0    0\n",
      "     0    0    0    0    0    0    0    0    0    0    0    0    0    0\n",
      "     0    0    0    0    0    0    0    0]], shape=(2, 50), dtype=int64)\n"
     ]
    }
   ],
   "source": [
    "# Vectorize the data\n",
    "# ds = data.map(lambda x, y: (vectorize_layer(x), vectorize_layer(y)), num_parallel_calls=tf.data.AUTOTUNE)\n",
    "ds = data.map(lambda x: vectorize_layer(x), num_parallel_calls=tf.data.AUTOTUNE)\n",
    "\n",
    "# Print a sample\n",
    "for i in ds.take(1):\n",
    "    print(i)"
   ]
  },
  {
   "cell_type": "code",
   "execution_count": 52,
   "metadata": {},
   "outputs": [],
   "source": [
    "# TODO: Finalize the placing of the tags\n",
    "# Function for preparing dataset\n",
    "def prepare_dataset(record):\n",
    "\n",
    "    #\n",
    "    in_record, out_record = record[0], record[1]\n",
    "\n",
    "    # Encoder input - actual input\n",
    "    encoder_input = in_record[1:]\n",
    "\n",
    "    # Decoder input - actual output (starting from 0 till t-1)\n",
    "    decoder_input = out_record[:-1] \n",
    "\n",
    "    # Decoder output - actual output (starting from 1 till t)\n",
    "    decoder_output = out_record[1:]\n",
    "\n",
    "    # Reshape output (to match sparse categorical crossentropy)\n",
    "    encoder_input = tf.expand_dims(encoder_input, axis=-1)\n",
    "    decoder_input = tf.expand_dims(decoder_input, axis=-1)\n",
    "    decoder_output = tf.expand_dims(decoder_output, axis=-1)\n",
    "\n",
    "    # Return the data\n",
    "    return ({\"encoder_inputs\": encoder_input, \"decoder_inputs\": decoder_input}, decoder_output,)"
   ]
  },
  {
   "cell_type": "code",
   "execution_count": 53,
   "metadata": {},
   "outputs": [
    {
     "name": "stdout",
     "output_type": "stream",
     "text": [
      "({'encoder_inputs': <tf.Tensor: shape=(49, 1), dtype=int64, numpy=\n",
      "array([[  22],\n",
      "       [3147],\n",
      "       [ 612],\n",
      "       [1503],\n",
      "       [ 243],\n",
      "       [   0],\n",
      "       [   0],\n",
      "       [   0],\n",
      "       [   0],\n",
      "       [   0],\n",
      "       [   0],\n",
      "       [   0],\n",
      "       [   0],\n",
      "       [   0],\n",
      "       [   0],\n",
      "       [   0],\n",
      "       [   0],\n",
      "       [   0],\n",
      "       [   0],\n",
      "       [   0],\n",
      "       [   0],\n",
      "       [   0],\n",
      "       [   0],\n",
      "       [   0],\n",
      "       [   0],\n",
      "       [   0],\n",
      "       [   0],\n",
      "       [   0],\n",
      "       [   0],\n",
      "       [   0],\n",
      "       [   0],\n",
      "       [   0],\n",
      "       [   0],\n",
      "       [   0],\n",
      "       [   0],\n",
      "       [   0],\n",
      "       [   0],\n",
      "       [   0],\n",
      "       [   0],\n",
      "       [   0],\n",
      "       [   0],\n",
      "       [   0],\n",
      "       [   0],\n",
      "       [   0],\n",
      "       [   0],\n",
      "       [   0],\n",
      "       [   0],\n",
      "       [   0],\n",
      "       [   0]], dtype=int64)>, 'decoder_inputs': <tf.Tensor: shape=(49, 1), dtype=int64, numpy=\n",
      "array([[   4],\n",
      "       [   2],\n",
      "       [ 439],\n",
      "       [1765],\n",
      "       [   0],\n",
      "       [   0],\n",
      "       [   0],\n",
      "       [   0],\n",
      "       [   0],\n",
      "       [   0],\n",
      "       [   0],\n",
      "       [   0],\n",
      "       [   0],\n",
      "       [   0],\n",
      "       [   0],\n",
      "       [   0],\n",
      "       [   0],\n",
      "       [   0],\n",
      "       [   0],\n",
      "       [   0],\n",
      "       [   0],\n",
      "       [   0],\n",
      "       [   0],\n",
      "       [   0],\n",
      "       [   0],\n",
      "       [   0],\n",
      "       [   0],\n",
      "       [   0],\n",
      "       [   0],\n",
      "       [   0],\n",
      "       [   0],\n",
      "       [   0],\n",
      "       [   0],\n",
      "       [   0],\n",
      "       [   0],\n",
      "       [   0],\n",
      "       [   0],\n",
      "       [   0],\n",
      "       [   0],\n",
      "       [   0],\n",
      "       [   0],\n",
      "       [   0],\n",
      "       [   0],\n",
      "       [   0],\n",
      "       [   0],\n",
      "       [   0],\n",
      "       [   0],\n",
      "       [   0],\n",
      "       [   0]], dtype=int64)>}, <tf.Tensor: shape=(49, 1), dtype=int64, numpy=\n",
      "array([[   2],\n",
      "       [ 439],\n",
      "       [1765],\n",
      "       [   0],\n",
      "       [   0],\n",
      "       [   0],\n",
      "       [   0],\n",
      "       [   0],\n",
      "       [   0],\n",
      "       [   0],\n",
      "       [   0],\n",
      "       [   0],\n",
      "       [   0],\n",
      "       [   0],\n",
      "       [   0],\n",
      "       [   0],\n",
      "       [   0],\n",
      "       [   0],\n",
      "       [   0],\n",
      "       [   0],\n",
      "       [   0],\n",
      "       [   0],\n",
      "       [   0],\n",
      "       [   0],\n",
      "       [   0],\n",
      "       [   0],\n",
      "       [   0],\n",
      "       [   0],\n",
      "       [   0],\n",
      "       [   0],\n",
      "       [   0],\n",
      "       [   0],\n",
      "       [   0],\n",
      "       [   0],\n",
      "       [   0],\n",
      "       [   0],\n",
      "       [   0],\n",
      "       [   0],\n",
      "       [   0],\n",
      "       [   0],\n",
      "       [   0],\n",
      "       [   0],\n",
      "       [   0],\n",
      "       [   0],\n",
      "       [   0],\n",
      "       [   0],\n",
      "       [   0],\n",
      "       [   0],\n",
      "       [   0]], dtype=int64)>)\n"
     ]
    }
   ],
   "source": [
    "# Prepare the dataset\n",
    "ds = ds.map(lambda record: prepare_dataset(record), num_parallel_calls=tf.data.AUTOTUNE)\n",
    "\n",
    "# Print a sample\n",
    "for i in ds.take(1):\n",
    "    print(i)"
   ]
  },
  {
   "cell_type": "code",
   "execution_count": 54,
   "metadata": {},
   "outputs": [],
   "source": [
    "# Data transformation\n",
    "ds = ds.shuffle(DATA_SHUFFLE)\n",
    "ds = ds.repeat(DATA_REPEAT)\n",
    "ds = ds.batch(BATCH_SIZE)\n",
    "ds = ds.prefetch(tf.data.AUTOTUNE)"
   ]
  },
  {
   "cell_type": "code",
   "execution_count": 55,
   "metadata": {},
   "outputs": [
    {
     "name": "stdout",
     "output_type": "stream",
     "text": [
      "Encoder input:  (32, 49, 1)\n",
      "Decoder input:  (32, 49, 1)\n",
      "Decoder Output:  (32, 49, 1)\n"
     ]
    }
   ],
   "source": [
    "# Print a sample\n",
    "for inputs, targets in ds.take(1):\n",
    "    print(\"Encoder input: \", inputs[\"encoder_inputs\"].shape)\n",
    "    print(\"Decoder input: \", inputs[\"decoder_inputs\"].shape)\n",
    "    print(\"Decoder Output: \", targets.shape)"
   ]
  },
  {
   "cell_type": "code",
   "execution_count": 56,
   "metadata": {},
   "outputs": [],
   "source": [
    "# # Report\n",
    "# for inputs, targets in ds.take(1):\n",
    "#     print(f'inputs[\"encoder_inputs\"]: \\n{inputs[\"encoder_inputs\"]}')\n",
    "#     print(f'\\ninputs[\"decoder_inputs\"]: \\n{inputs[\"decoder_inputs\"]}')\n",
    "#     print(f\"\\ntargets.shape: \\n{targets}\")"
   ]
  },
  {
   "cell_type": "markdown",
   "metadata": {},
   "source": [
    "<br>\n",
    "\n",
    "### Token and Positional Encoding\n",
    "\n",
    "---"
   ]
  },
  {
   "cell_type": "code",
   "execution_count": 57,
   "metadata": {},
   "outputs": [],
   "source": [
    "\n",
    "#######################\n",
    "# POSITIONAL ENCODING #\n",
    "#######################\n",
    "\n",
    "# Class for positional encoding\n",
    "class PositionalEmbedding(tf.keras.layers.Layer):\n",
    "\n",
    "    # Constructor function\n",
    "    def __init__(self, sequence_length, vocab_size, embed_dim, **kwargs):\n",
    "\n",
    "        # Inherite parent class constructor\n",
    "        super(PositionalEmbedding, self).__init__(**kwargs)\n",
    "\n",
    "        # Token and position embedding\n",
    "        self.token_embeddings    = tf.keras.layers.Embedding(input_dim=vocab_size, output_dim=embed_dim)        \n",
    "        self.position_embeddings = tf.keras.layers.Embedding(input_dim=sequence_length, output_dim=embed_dim)\n",
    "        \n",
    "        # Initialization\n",
    "        self.sequence_length = sequence_length\n",
    "        self.vocab_size = vocab_size\n",
    "        self.embed_dim = embed_dim\n",
    "\n",
    "    # Call function\n",
    "    def call(self, inputs):\n",
    "\n",
    "        # Length of inputs\n",
    "        length = tf.shape(inputs)[-1]\n",
    "        \n",
    "        # Range of 0-length\n",
    "        positions = tf.range(start=0, limit=length, delta=1)\n",
    "        \n",
    "        # Positional embedding\n",
    "        embedded_tokens = self.token_embeddings(inputs)\n",
    "        embedded_positions = self.position_embeddings(positions)\n",
    "        out = embedded_tokens + embedded_positions\n",
    "\n",
    "        return out \n",
    "\n",
    "    # Function for creating mask\n",
    "    def compute_mask(self, inputs, mask=None):\n",
    "\n",
    "        # Returns the truth value of (x != y) element-wise\n",
    "        return tf.math.not_equal(inputs, 0)\n",
    "\n",
    "    # Function update parent's config\n",
    "    def get_config(self):\n",
    "\n",
    "        # Get the config of the parent class\n",
    "        config = super().get_config()\n",
    "\n",
    "        # Update the config\n",
    "        config.update({\"sequence_length\": self.sequence_length, \"vocab_size\": self.vocab_size, \"embed_dim\": self.embed_dim,})\n",
    "        \n",
    "        return config"
   ]
  },
  {
   "cell_type": "markdown",
   "metadata": {},
   "source": [
    "<br>\n",
    "\n",
    "### Model Architecture\n",
    "\n",
    "---"
   ]
  },
  {
   "cell_type": "code",
   "execution_count": 58,
   "metadata": {},
   "outputs": [],
   "source": [
    "\n",
    "#######################\n",
    "# TRANSFORMER ENCODER #\n",
    "#######################\n",
    "\n",
    "# Class for transformer encoder\n",
    "class TransformerEncoder(tf.keras.layers.Layer):\n",
    "\n",
    "    # Constructor function\n",
    "    def __init__(self, embed_dim, dense_dim, num_heads, **kwargs):\n",
    "\n",
    "        # Inherite parent class constructor\n",
    "        super(TransformerEncoder, self).__init__(**kwargs)\n",
    "\n",
    "        # Initialization\n",
    "        self.embed_dim = embed_dim\n",
    "        self.dense_dim = dense_dim\n",
    "        self.num_heads = num_heads\n",
    "        \n",
    "        # Multi-head attention layer\n",
    "        self.attention = tf.keras.layers.MultiHeadAttention(num_heads=num_heads, key_dim=embed_dim)\n",
    "        \n",
    "        # Dense projection layers\n",
    "        self.dense_proj = tf.keras.Sequential([tf.keras.layers.Dense(dense_dim, activation=\"relu\"),\n",
    "                                               tf.keras.layers.Dense(embed_dim)])\n",
    "        \n",
    "        # Layer normalizations\n",
    "        self.layernorm_1 = tf.keras.layers.LayerNormalization()\n",
    "        self.layernorm_2 = tf.keras.layers.LayerNormalization()\n",
    "        \n",
    "        # Flag for masking\n",
    "        self.supports_masking = True\n",
    "\n",
    "    # Call function\n",
    "    def call(self, inputs, mask=None):\n",
    "\n",
    "        # If mask is not None\n",
    "        if mask is not None:\n",
    "\n",
    "            # Mask the inputs\n",
    "            padding_mask = tf.cast(mask[:, tf.newaxis, tf.newaxis, :], dtype=\"int32\")\n",
    "        \n",
    "        # Feed into multi-head attention\n",
    "        attention_output = self.attention(query=inputs, value=inputs, key=inputs, attention_mask=padding_mask)\n",
    "        \n",
    "        # Sum up inputs and attention + Normalize the layer \n",
    "        proj_input = self.layernorm_1(inputs + attention_output)\n",
    "\n",
    "        # Feed into dense projection layer\n",
    "        proj_output = self.dense_proj(proj_input)\n",
    "\n",
    "        # Sum up projected input and output + Normalize the layer\n",
    "        out = self.layernorm_2(proj_input + proj_output)\n",
    "\n",
    "        return out\n",
    "\n",
    "    # Function for updating parent's config\n",
    "    def get_config(self):\n",
    "\n",
    "        # Get the config of the parent class\n",
    "        config = super().get_config()\n",
    "\n",
    "        # Update the config\n",
    "        config.update({\"embed_dim\": self.embed_dim, \"dense_dim\": self.dense_dim, \"num_heads\": self.num_heads,})\n",
    "        \n",
    "        return config"
   ]
  },
  {
   "cell_type": "code",
   "execution_count": 59,
   "metadata": {},
   "outputs": [],
   "source": [
    "\n",
    "#######################\n",
    "# TRANSFORMER DECODER #\n",
    "#######################\n",
    "\n",
    "# Class for transformer decoder\n",
    "class TransformerDecoder(tf.keras.layers.Layer):\n",
    "\n",
    "    # Constructor function\n",
    "    def __init__(self, embed_dim, latent_dim, num_heads, **kwargs):\n",
    "\n",
    "        # Inherite parent class constructor\n",
    "        super(TransformerDecoder, self).__init__(**kwargs)\n",
    "\n",
    "        # Initialization\n",
    "        self.embed_dim = embed_dim\n",
    "        self.latent_dim = latent_dim\n",
    "        self.num_heads = num_heads\n",
    "\n",
    "        # Multi-head attention layers\n",
    "        self.attention_1 = tf.keras.layers.MultiHeadAttention(num_heads=num_heads, key_dim=embed_dim)\n",
    "        self.attention_2 = tf.keras.layers.MultiHeadAttention(num_heads=num_heads, key_dim=embed_dim)\n",
    "        \n",
    "        # Dense projection layers\n",
    "        self.dense_proj = tf.keras.Sequential([tf.keras.layers.Dense(latent_dim, activation=\"relu\"),\n",
    "                                               tf.keras.layers.Dense(embed_dim),])\n",
    "\n",
    "        # Layer normalizations\n",
    "        self.layernorm_1 = tf.keras.layers.LayerNormalization()\n",
    "        self.layernorm_2 = tf.keras.layers.LayerNormalization()\n",
    "        self.layernorm_3 = tf.keras.layers.LayerNormalization()\n",
    "        \n",
    "        # Flag for masking\n",
    "        self.supports_masking = True\n",
    "\n",
    "    # Call function\n",
    "    def call(self, inputs, encoder_outputs, mask=None):\n",
    "\n",
    "        # Causal attention mask\n",
    "        causal_mask = self.get_causal_attention_mask(inputs)\n",
    "        \n",
    "        # If mask is not None\n",
    "        if mask is not None:\n",
    "\n",
    "            # Mask the inputs\n",
    "            padding_mask = tf.cast(mask[:, tf.newaxis, :], dtype=\"int32\")\n",
    "            padding_mask = tf.minimum(padding_mask, causal_mask)\n",
    "\n",
    "        # Feed into multi-head attention\n",
    "        attention_output_1 = self.attention_1(query=inputs, value=inputs, key=inputs, attention_mask=causal_mask)\n",
    "        \n",
    "        # Sum up inputs and attention + Normalize the layer\n",
    "        out_1 = self.layernorm_1(inputs + attention_output_1)\n",
    "\n",
    "        # Feed into multi-head attention\n",
    "        attention_output_2 = self.attention_2(query=out_1, value=encoder_outputs, key=encoder_outputs, attention_mask=padding_mask,)\n",
    "\n",
    "        # Sum up output and attention + Normalize the layer\n",
    "        out_2 = self.layernorm_2(out_1 + attention_output_2)\n",
    "\n",
    "        # Feed into dense projection layer\n",
    "        proj_output = self.dense_proj(out_2)\n",
    "\n",
    "        # Sum up output and projected output + Normalize the layer\n",
    "        out = self.layernorm_3(out_2 + proj_output)\n",
    "\n",
    "        return out\n",
    "\n",
    "    # Function for getting causal attention mask\n",
    "    def get_causal_attention_mask(self, inputs):\n",
    "\n",
    "        # Input shape\n",
    "        input_shape = tf.shape(inputs)\n",
    "\n",
    "        # Batch size AND sequence length\n",
    "        batch_size, sequence_length = input_shape[0], input_shape[1]\n",
    "\n",
    "        # Range for i and j\n",
    "        i = tf.range(sequence_length)[:, tf.newaxis]\n",
    "        j = tf.range(sequence_length)\n",
    "        \n",
    "        # Create causal mask\n",
    "        mask = tf.cast(i >= j, dtype=\"int32\")\n",
    "        mask = tf.reshape(mask, (1, input_shape[1], input_shape[1]))\n",
    "        \n",
    "        # Multiplier (to replicate mask for mult times) \n",
    "        mult = tf.concat([tf.expand_dims(batch_size, -1), tf.constant([1, 1], dtype=tf.int32)], axis=0,)\n",
    "        \n",
    "        # Replicate the mask for mult times \n",
    "        out = tf.tile(mask, mult)\n",
    "\n",
    "        return out\n",
    "\n",
    "    # Function for updating parent's config\n",
    "    def get_config(self):\n",
    "\n",
    "        # Get the config of the parent class\n",
    "        config = super().get_config()\n",
    "\n",
    "        # Update the config\n",
    "        config.update({\"embed_dim\": self.embed_dim, \"latent_dim\": self.latent_dim, \"num_heads\": self.num_heads,})\n",
    "        \n",
    "        return config"
   ]
  },
  {
   "cell_type": "markdown",
   "metadata": {},
   "source": [
    "<br>\n",
    "\n",
    "### Training\n",
    "\n",
    "---"
   ]
  },
  {
   "cell_type": "code",
   "execution_count": 60,
   "metadata": {},
   "outputs": [],
   "source": [
    "# Hyperparameters\n",
    "embed_dim = 128\n",
    "latent_dim = 128\n",
    "num_heads = 4\n",
    "vocab_size = vectorize_layer.vocabulary_size()\n",
    "sequence_length = MAX_SEQ_LENGTH"
   ]
  },
  {
   "cell_type": "code",
   "execution_count": 61,
   "metadata": {},
   "outputs": [],
   "source": [
    "#######################\n",
    "# TRANSFORMER ENCODER #\n",
    "#######################\n",
    "\n",
    "# Inputs\n",
    "encoder_inputs = tf.keras.Input(shape=(None,), dtype=\"int64\", name=\"encoder_inputs\")\n",
    "\n",
    "# Positional encoding\n",
    "x = PositionalEmbedding(sequence_length, vocab_size, embed_dim)(encoder_inputs)\n",
    "\n",
    "# Transformer encoder\n",
    "encoder_outputs = TransformerEncoder(embed_dim, latent_dim, num_heads)(x)\n",
    "\n",
    "# Model\n",
    "encoder = tf.keras.Model(encoder_inputs, encoder_outputs)"
   ]
  },
  {
   "cell_type": "code",
   "execution_count": 62,
   "metadata": {},
   "outputs": [
    {
     "name": "stdout",
     "output_type": "stream",
     "text": [
      "Model: \"model_1\"\n",
      "__________________________________________________________________________________________________\n",
      " Layer (type)                   Output Shape         Param #     Connected to                     \n",
      "==================================================================================================\n",
      " decoder_inputs (InputLayer)    [(None, None)]       0           []                               \n",
      "                                                                                                  \n",
      " positional_embedding_1 (Positi  (None, None, 128)   12806400    ['decoder_inputs[0][0]']         \n",
      " onalEmbedding)                                                                                   \n",
      "                                                                                                  \n",
      " decoder_state_inputs (InputLay  [(None, None, 128)]  0          []                               \n",
      " er)                                                                                              \n",
      "                                                                                                  \n",
      " transformer_decoder (Transform  (None, None, 128)   561408      ['positional_embedding_1[0][0]', \n",
      " erDecoder)                                                       'decoder_state_inputs[0][0]']   \n",
      "                                                                                                  \n",
      " dropout (Dropout)              (None, None, 128)    0           ['transformer_decoder[0][0]']    \n",
      "                                                                                                  \n",
      " dense_4 (Dense)                (None, None, 100000  12900000    ['dropout[0][0]']                \n",
      "                                )                                                                 \n",
      "                                                                                                  \n",
      "==================================================================================================\n",
      "Total params: 26,267,808\n",
      "Trainable params: 26,267,808\n",
      "Non-trainable params: 0\n",
      "__________________________________________________________________________________________________\n",
      "None\n"
     ]
    }
   ],
   "source": [
    "#######################\n",
    "# TRANSFORMER DECODER #\n",
    "#######################\n",
    "\n",
    "# Inputs (to decoder)\n",
    "decoder_inputs = tf.keras.Input(shape=(None,), dtype=\"int64\", name=\"decoder_inputs\")\n",
    "\n",
    "# Inputs (from encoder)\n",
    "encoded_seq_inputs = tf.keras.Input(shape=(None, embed_dim), name=\"decoder_state_inputs\")\n",
    "\n",
    "# Positional encoding\n",
    "x = PositionalEmbedding(sequence_length, vocab_size, embed_dim)(decoder_inputs)\n",
    "\n",
    "# Transformer decoder\n",
    "x = TransformerDecoder(embed_dim, latent_dim, num_heads)(x, encoded_seq_inputs)\n",
    "\n",
    "# Dropout\n",
    "x = tf.keras.layers.Dropout(0.5)(x)\n",
    "\n",
    "# Output layer\n",
    "decoder_outputs = tf.keras.layers.Dense(vocab_size, activation=\"softmax\")(x)\n",
    "\n",
    "# Model\n",
    "decoder = tf.keras.Model([decoder_inputs, encoded_seq_inputs], decoder_outputs)\n",
    "\n",
    "# Report\n",
    "print(decoder.summary())\n",
    "# tf.keras.utils.plot_model(decoder)"
   ]
  },
  {
   "cell_type": "code",
   "execution_count": 63,
   "metadata": {},
   "outputs": [
    {
     "name": "stdout",
     "output_type": "stream",
     "text": [
      "Model: \"transformer\"\n",
      "__________________________________________________________________________________________________\n",
      " Layer (type)                   Output Shape         Param #     Connected to                     \n",
      "==================================================================================================\n",
      " encoder_inputs (InputLayer)    [(None, None)]       0           []                               \n",
      "                                                                                                  \n",
      " positional_embedding (Position  (None, None, 128)   12806400    ['encoder_inputs[0][0]']         \n",
      " alEmbedding)                                                                                     \n",
      "                                                                                                  \n",
      " decoder_inputs (InputLayer)    [(None, None)]       0           []                               \n",
      "                                                                                                  \n",
      " transformer_encoder (Transform  (None, None, 128)   297344      ['positional_embedding[0][0]']   \n",
      " erEncoder)                                                                                       \n",
      "                                                                                                  \n",
      " model_1 (Functional)           (None, None, 100000  26267808    ['decoder_inputs[0][0]',         \n",
      "                                )                                 'transformer_encoder[0][0]']    \n",
      "                                                                                                  \n",
      "==================================================================================================\n",
      "Total params: 39,371,552\n",
      "Trainable params: 39,371,552\n",
      "Non-trainable params: 0\n",
      "__________________________________________________________________________________________________\n",
      "None\n"
     ]
    }
   ],
   "source": [
    "\n",
    "#####################\n",
    "# TRANSFORMER MODEL #\n",
    "#####################\n",
    "\n",
    "# Feed inputs into decoder\n",
    "decoder_outputs = decoder([decoder_inputs, encoder_outputs])\n",
    "\n",
    "# Transformer model\n",
    "transformer = tf.keras.Model([encoder_inputs, decoder_inputs], decoder_outputs, name=\"transformer\")\n",
    "\n",
    "# Report\n",
    "print(transformer.summary())\n",
    "# tf.keras.utils.plot_model(transformer)"
   ]
  },
  {
   "cell_type": "code",
   "execution_count": 64,
   "metadata": {},
   "outputs": [
    {
     "name": "stdout",
     "output_type": "stream",
     "text": [
      "Epoch 1/5\n",
      "27732/27732 [==============================] - 4266s 154ms/step - loss: 1.0746 - accuracy: 0.2429\n",
      "Epoch 2/5\n",
      "27732/27732 [==============================] - 4340s 156ms/step - loss: 0.9462 - accuracy: 0.2869\n",
      "Epoch 3/5\n",
      "27732/27732 [==============================] - 4480s 162ms/step - loss: 0.8866 - accuracy: 0.3122\n",
      "Epoch 4/5\n",
      "27732/27732 [==============================] - 4649s 168ms/step - loss: 0.8522 - accuracy: 0.3293\n",
      "Epoch 5/5\n",
      "27732/27732 [==============================] - 4723s 170ms/step - loss: 0.8290 - accuracy: 0.3432\n"
     ]
    },
    {
     "data": {
      "text/plain": [
       "<keras.callbacks.History at 0x25d8798c5b0>"
      ]
     },
     "execution_count": 64,
     "metadata": {},
     "output_type": "execute_result"
    }
   ],
   "source": [
    "# Compile the model\n",
    "transformer.compile(\"adam\", loss=\"sparse_categorical_crossentropy\", metrics=[\"accuracy\"])\n",
    "\n",
    "# Train the model\n",
    "transformer.fit(ds, epochs=5)      # Choose at least 30 for epoch"
   ]
  },
  {
   "cell_type": "code",
   "execution_count": 67,
   "metadata": {},
   "outputs": [
    {
     "name": "stderr",
     "output_type": "stream",
     "text": [
      "WARNING:absl:Found untraced functions such as embedding_layer_call_fn, embedding_layer_call_and_return_conditional_losses, embedding_1_layer_call_fn, embedding_1_layer_call_and_return_conditional_losses, multi_head_attention_layer_call_fn while saving (showing 5 of 60). These functions will not be directly callable after loading.\n"
     ]
    },
    {
     "name": "stdout",
     "output_type": "stream",
     "text": [
      "INFO:tensorflow:Assets written to: ./saved model/transformer_model\\assets\n"
     ]
    },
    {
     "name": "stderr",
     "output_type": "stream",
     "text": [
      "INFO:tensorflow:Assets written to: ./saved model/transformer_model\\assets\n"
     ]
    }
   ],
   "source": [
    "# Save model\n",
    "transformer.save(\"./saved model/transformer_model\")\n",
    "\n",
    "# Load the model\n",
    "#transformer = tf.keras.models.load_model(\"./saved model/transformer_model\")"
   ]
  },
  {
   "cell_type": "code",
   "execution_count": 66,
   "metadata": {},
   "outputs": [
    {
     "name": "stdout",
     "output_type": "stream",
     "text": [
      "Epoch 1/5\n",
      "      1/Unknown - 3s 3s/step - loss: 0.3242 - accuracy: 0.1647"
     ]
    },
    {
     "ename": "ResourceExhaustedError",
     "evalue": "Graph execution error:\n\nDetected at node 'transformer/model_1/dense_4/Softmax' defined at (most recent call last):\n    File \"c:\\Users\\Soheil\\anaconda3\\envs\\prime\\lib\\runpy.py\", line 196, in _run_module_as_main\n      return _run_code(code, main_globals, None,\n    File \"c:\\Users\\Soheil\\anaconda3\\envs\\prime\\lib\\runpy.py\", line 86, in _run_code\n      exec(code, run_globals)\n    File \"c:\\Users\\Soheil\\anaconda3\\envs\\prime\\lib\\site-packages\\ipykernel_launcher.py\", line 17, in <module>\n      app.launch_new_instance()\n    File \"c:\\Users\\Soheil\\anaconda3\\envs\\prime\\lib\\site-packages\\traitlets\\config\\application.py\", line 978, in launch_instance\n      app.start()\n    File \"c:\\Users\\Soheil\\anaconda3\\envs\\prime\\lib\\site-packages\\ipykernel\\kernelapp.py\", line 712, in start\n      self.io_loop.start()\n    File \"c:\\Users\\Soheil\\anaconda3\\envs\\prime\\lib\\site-packages\\tornado\\platform\\asyncio.py\", line 215, in start\n      self.asyncio_loop.run_forever()\n    File \"c:\\Users\\Soheil\\anaconda3\\envs\\prime\\lib\\asyncio\\base_events.py\", line 600, in run_forever\n      self._run_once()\n    File \"c:\\Users\\Soheil\\anaconda3\\envs\\prime\\lib\\asyncio\\base_events.py\", line 1896, in _run_once\n      handle._run()\n    File \"c:\\Users\\Soheil\\anaconda3\\envs\\prime\\lib\\asyncio\\events.py\", line 80, in _run\n      self._context.run(self._callback, *self._args)\n    File \"c:\\Users\\Soheil\\anaconda3\\envs\\prime\\lib\\site-packages\\ipykernel\\kernelbase.py\", line 510, in dispatch_queue\n      await self.process_one()\n    File \"c:\\Users\\Soheil\\anaconda3\\envs\\prime\\lib\\site-packages\\ipykernel\\kernelbase.py\", line 499, in process_one\n      await dispatch(*args)\n    File \"c:\\Users\\Soheil\\anaconda3\\envs\\prime\\lib\\site-packages\\ipykernel\\kernelbase.py\", line 406, in dispatch_shell\n      await result\n    File \"c:\\Users\\Soheil\\anaconda3\\envs\\prime\\lib\\site-packages\\ipykernel\\kernelbase.py\", line 730, in execute_request\n      reply_content = await reply_content\n    File \"c:\\Users\\Soheil\\anaconda3\\envs\\prime\\lib\\site-packages\\ipykernel\\ipkernel.py\", line 383, in do_execute\n      res = shell.run_cell(\n    File \"c:\\Users\\Soheil\\anaconda3\\envs\\prime\\lib\\site-packages\\ipykernel\\zmqshell.py\", line 528, in run_cell\n      return super().run_cell(*args, **kwargs)\n    File \"c:\\Users\\Soheil\\anaconda3\\envs\\prime\\lib\\site-packages\\IPython\\core\\interactiveshell.py\", line 2885, in run_cell\n      result = self._run_cell(\n    File \"c:\\Users\\Soheil\\anaconda3\\envs\\prime\\lib\\site-packages\\IPython\\core\\interactiveshell.py\", line 2940, in _run_cell\n      return runner(coro)\n    File \"c:\\Users\\Soheil\\anaconda3\\envs\\prime\\lib\\site-packages\\IPython\\core\\async_helpers.py\", line 129, in _pseudo_sync_runner\n      coro.send(None)\n    File \"c:\\Users\\Soheil\\anaconda3\\envs\\prime\\lib\\site-packages\\IPython\\core\\interactiveshell.py\", line 3139, in run_cell_async\n      has_raised = await self.run_ast_nodes(code_ast.body, cell_name,\n    File \"c:\\Users\\Soheil\\anaconda3\\envs\\prime\\lib\\site-packages\\IPython\\core\\interactiveshell.py\", line 3318, in run_ast_nodes\n      if await self.run_code(code, result, async_=asy):\n    File \"c:\\Users\\Soheil\\anaconda3\\envs\\prime\\lib\\site-packages\\IPython\\core\\interactiveshell.py\", line 3378, in run_code\n      exec(code_obj, self.user_global_ns, self.user_ns)\n    File \"C:\\Users\\Soheil\\AppData\\Local\\Temp\\ipykernel_24552\\1840114185.py\", line 5, in <module>\n      transformer.fit(ds, epochs=5)      # Choose at least 30 for epoch\n    File \"c:\\Users\\Soheil\\anaconda3\\envs\\prime\\lib\\site-packages\\keras\\utils\\traceback_utils.py\", line 64, in error_handler\n      return fn(*args, **kwargs)\n    File \"c:\\Users\\Soheil\\anaconda3\\envs\\prime\\lib\\site-packages\\keras\\engine\\training.py\", line 1409, in fit\n      tmp_logs = self.train_function(iterator)\n    File \"c:\\Users\\Soheil\\anaconda3\\envs\\prime\\lib\\site-packages\\keras\\engine\\training.py\", line 1051, in train_function\n      return step_function(self, iterator)\n    File \"c:\\Users\\Soheil\\anaconda3\\envs\\prime\\lib\\site-packages\\keras\\engine\\training.py\", line 1040, in step_function\n      outputs = model.distribute_strategy.run(run_step, args=(data,))\n    File \"c:\\Users\\Soheil\\anaconda3\\envs\\prime\\lib\\site-packages\\keras\\engine\\training.py\", line 1030, in run_step\n      outputs = model.train_step(data)\n    File \"c:\\Users\\Soheil\\anaconda3\\envs\\prime\\lib\\site-packages\\keras\\engine\\training.py\", line 889, in train_step\n      y_pred = self(x, training=True)\n    File \"c:\\Users\\Soheil\\anaconda3\\envs\\prime\\lib\\site-packages\\keras\\utils\\traceback_utils.py\", line 64, in error_handler\n      return fn(*args, **kwargs)\n    File \"c:\\Users\\Soheil\\anaconda3\\envs\\prime\\lib\\site-packages\\keras\\engine\\training.py\", line 490, in __call__\n      return super().__call__(*args, **kwargs)\n    File \"c:\\Users\\Soheil\\anaconda3\\envs\\prime\\lib\\site-packages\\keras\\utils\\traceback_utils.py\", line 64, in error_handler\n      return fn(*args, **kwargs)\n    File \"c:\\Users\\Soheil\\anaconda3\\envs\\prime\\lib\\site-packages\\keras\\engine\\base_layer.py\", line 1014, in __call__\n      outputs = call_fn(inputs, *args, **kwargs)\n    File \"c:\\Users\\Soheil\\anaconda3\\envs\\prime\\lib\\site-packages\\keras\\utils\\traceback_utils.py\", line 92, in error_handler\n      return fn(*args, **kwargs)\n    File \"c:\\Users\\Soheil\\anaconda3\\envs\\prime\\lib\\site-packages\\keras\\engine\\functional.py\", line 458, in call\n      return self._run_internal_graph(\n    File \"c:\\Users\\Soheil\\anaconda3\\envs\\prime\\lib\\site-packages\\keras\\engine\\functional.py\", line 596, in _run_internal_graph\n      outputs = node.layer(*args, **kwargs)\n    File \"c:\\Users\\Soheil\\anaconda3\\envs\\prime\\lib\\site-packages\\keras\\utils\\traceback_utils.py\", line 64, in error_handler\n      return fn(*args, **kwargs)\n    File \"c:\\Users\\Soheil\\anaconda3\\envs\\prime\\lib\\site-packages\\keras\\engine\\training.py\", line 490, in __call__\n      return super().__call__(*args, **kwargs)\n    File \"c:\\Users\\Soheil\\anaconda3\\envs\\prime\\lib\\site-packages\\keras\\utils\\traceback_utils.py\", line 64, in error_handler\n      return fn(*args, **kwargs)\n    File \"c:\\Users\\Soheil\\anaconda3\\envs\\prime\\lib\\site-packages\\keras\\engine\\base_layer.py\", line 1014, in __call__\n      outputs = call_fn(inputs, *args, **kwargs)\n    File \"c:\\Users\\Soheil\\anaconda3\\envs\\prime\\lib\\site-packages\\keras\\utils\\traceback_utils.py\", line 92, in error_handler\n      return fn(*args, **kwargs)\n    File \"c:\\Users\\Soheil\\anaconda3\\envs\\prime\\lib\\site-packages\\keras\\engine\\functional.py\", line 458, in call\n      return self._run_internal_graph(\n    File \"c:\\Users\\Soheil\\anaconda3\\envs\\prime\\lib\\site-packages\\keras\\engine\\functional.py\", line 596, in _run_internal_graph\n      outputs = node.layer(*args, **kwargs)\n    File \"c:\\Users\\Soheil\\anaconda3\\envs\\prime\\lib\\site-packages\\keras\\utils\\traceback_utils.py\", line 64, in error_handler\n      return fn(*args, **kwargs)\n    File \"c:\\Users\\Soheil\\anaconda3\\envs\\prime\\lib\\site-packages\\keras\\engine\\base_layer.py\", line 1014, in __call__\n      outputs = call_fn(inputs, *args, **kwargs)\n    File \"c:\\Users\\Soheil\\anaconda3\\envs\\prime\\lib\\site-packages\\keras\\utils\\traceback_utils.py\", line 92, in error_handler\n      return fn(*args, **kwargs)\n    File \"c:\\Users\\Soheil\\anaconda3\\envs\\prime\\lib\\site-packages\\keras\\layers\\core\\dense.py\", line 235, in call\n      outputs = self.activation(outputs)\n    File \"c:\\Users\\Soheil\\anaconda3\\envs\\prime\\lib\\site-packages\\keras\\activations.py\", line 80, in softmax\n      output = tf.nn.softmax(x, axis=axis)\nNode: 'transformer/model_1/dense_4/Softmax'\nDetected at node 'transformer/model_1/dense_4/Softmax' defined at (most recent call last):\n    File \"c:\\Users\\Soheil\\anaconda3\\envs\\prime\\lib\\runpy.py\", line 196, in _run_module_as_main\n      return _run_code(code, main_globals, None,\n    File \"c:\\Users\\Soheil\\anaconda3\\envs\\prime\\lib\\runpy.py\", line 86, in _run_code\n      exec(code, run_globals)\n    File \"c:\\Users\\Soheil\\anaconda3\\envs\\prime\\lib\\site-packages\\ipykernel_launcher.py\", line 17, in <module>\n      app.launch_new_instance()\n    File \"c:\\Users\\Soheil\\anaconda3\\envs\\prime\\lib\\site-packages\\traitlets\\config\\application.py\", line 978, in launch_instance\n      app.start()\n    File \"c:\\Users\\Soheil\\anaconda3\\envs\\prime\\lib\\site-packages\\ipykernel\\kernelapp.py\", line 712, in start\n      self.io_loop.start()\n    File \"c:\\Users\\Soheil\\anaconda3\\envs\\prime\\lib\\site-packages\\tornado\\platform\\asyncio.py\", line 215, in start\n      self.asyncio_loop.run_forever()\n    File \"c:\\Users\\Soheil\\anaconda3\\envs\\prime\\lib\\asyncio\\base_events.py\", line 600, in run_forever\n      self._run_once()\n    File \"c:\\Users\\Soheil\\anaconda3\\envs\\prime\\lib\\asyncio\\base_events.py\", line 1896, in _run_once\n      handle._run()\n    File \"c:\\Users\\Soheil\\anaconda3\\envs\\prime\\lib\\asyncio\\events.py\", line 80, in _run\n      self._context.run(self._callback, *self._args)\n    File \"c:\\Users\\Soheil\\anaconda3\\envs\\prime\\lib\\site-packages\\ipykernel\\kernelbase.py\", line 510, in dispatch_queue\n      await self.process_one()\n    File \"c:\\Users\\Soheil\\anaconda3\\envs\\prime\\lib\\site-packages\\ipykernel\\kernelbase.py\", line 499, in process_one\n      await dispatch(*args)\n    File \"c:\\Users\\Soheil\\anaconda3\\envs\\prime\\lib\\site-packages\\ipykernel\\kernelbase.py\", line 406, in dispatch_shell\n      await result\n    File \"c:\\Users\\Soheil\\anaconda3\\envs\\prime\\lib\\site-packages\\ipykernel\\kernelbase.py\", line 730, in execute_request\n      reply_content = await reply_content\n    File \"c:\\Users\\Soheil\\anaconda3\\envs\\prime\\lib\\site-packages\\ipykernel\\ipkernel.py\", line 383, in do_execute\n      res = shell.run_cell(\n    File \"c:\\Users\\Soheil\\anaconda3\\envs\\prime\\lib\\site-packages\\ipykernel\\zmqshell.py\", line 528, in run_cell\n      return super().run_cell(*args, **kwargs)\n    File \"c:\\Users\\Soheil\\anaconda3\\envs\\prime\\lib\\site-packages\\IPython\\core\\interactiveshell.py\", line 2885, in run_cell\n      result = self._run_cell(\n    File \"c:\\Users\\Soheil\\anaconda3\\envs\\prime\\lib\\site-packages\\IPython\\core\\interactiveshell.py\", line 2940, in _run_cell\n      return runner(coro)\n    File \"c:\\Users\\Soheil\\anaconda3\\envs\\prime\\lib\\site-packages\\IPython\\core\\async_helpers.py\", line 129, in _pseudo_sync_runner\n      coro.send(None)\n    File \"c:\\Users\\Soheil\\anaconda3\\envs\\prime\\lib\\site-packages\\IPython\\core\\interactiveshell.py\", line 3139, in run_cell_async\n      has_raised = await self.run_ast_nodes(code_ast.body, cell_name,\n    File \"c:\\Users\\Soheil\\anaconda3\\envs\\prime\\lib\\site-packages\\IPython\\core\\interactiveshell.py\", line 3318, in run_ast_nodes\n      if await self.run_code(code, result, async_=asy):\n    File \"c:\\Users\\Soheil\\anaconda3\\envs\\prime\\lib\\site-packages\\IPython\\core\\interactiveshell.py\", line 3378, in run_code\n      exec(code_obj, self.user_global_ns, self.user_ns)\n    File \"C:\\Users\\Soheil\\AppData\\Local\\Temp\\ipykernel_24552\\1840114185.py\", line 5, in <module>\n      transformer.fit(ds, epochs=5)      # Choose at least 30 for epoch\n    File \"c:\\Users\\Soheil\\anaconda3\\envs\\prime\\lib\\site-packages\\keras\\utils\\traceback_utils.py\", line 64, in error_handler\n      return fn(*args, **kwargs)\n    File \"c:\\Users\\Soheil\\anaconda3\\envs\\prime\\lib\\site-packages\\keras\\engine\\training.py\", line 1409, in fit\n      tmp_logs = self.train_function(iterator)\n    File \"c:\\Users\\Soheil\\anaconda3\\envs\\prime\\lib\\site-packages\\keras\\engine\\training.py\", line 1051, in train_function\n      return step_function(self, iterator)\n    File \"c:\\Users\\Soheil\\anaconda3\\envs\\prime\\lib\\site-packages\\keras\\engine\\training.py\", line 1040, in step_function\n      outputs = model.distribute_strategy.run(run_step, args=(data,))\n    File \"c:\\Users\\Soheil\\anaconda3\\envs\\prime\\lib\\site-packages\\keras\\engine\\training.py\", line 1030, in run_step\n      outputs = model.train_step(data)\n    File \"c:\\Users\\Soheil\\anaconda3\\envs\\prime\\lib\\site-packages\\keras\\engine\\training.py\", line 889, in train_step\n      y_pred = self(x, training=True)\n    File \"c:\\Users\\Soheil\\anaconda3\\envs\\prime\\lib\\site-packages\\keras\\utils\\traceback_utils.py\", line 64, in error_handler\n      return fn(*args, **kwargs)\n    File \"c:\\Users\\Soheil\\anaconda3\\envs\\prime\\lib\\site-packages\\keras\\engine\\training.py\", line 490, in __call__\n      return super().__call__(*args, **kwargs)\n    File \"c:\\Users\\Soheil\\anaconda3\\envs\\prime\\lib\\site-packages\\keras\\utils\\traceback_utils.py\", line 64, in error_handler\n      return fn(*args, **kwargs)\n    File \"c:\\Users\\Soheil\\anaconda3\\envs\\prime\\lib\\site-packages\\keras\\engine\\base_layer.py\", line 1014, in __call__\n      outputs = call_fn(inputs, *args, **kwargs)\n    File \"c:\\Users\\Soheil\\anaconda3\\envs\\prime\\lib\\site-packages\\keras\\utils\\traceback_utils.py\", line 92, in error_handler\n      return fn(*args, **kwargs)\n    File \"c:\\Users\\Soheil\\anaconda3\\envs\\prime\\lib\\site-packages\\keras\\engine\\functional.py\", line 458, in call\n      return self._run_internal_graph(\n    File \"c:\\Users\\Soheil\\anaconda3\\envs\\prime\\lib\\site-packages\\keras\\engine\\functional.py\", line 596, in _run_internal_graph\n      outputs = node.layer(*args, **kwargs)\n    File \"c:\\Users\\Soheil\\anaconda3\\envs\\prime\\lib\\site-packages\\keras\\utils\\traceback_utils.py\", line 64, in error_handler\n      return fn(*args, **kwargs)\n    File \"c:\\Users\\Soheil\\anaconda3\\envs\\prime\\lib\\site-packages\\keras\\engine\\training.py\", line 490, in __call__\n      return super().__call__(*args, **kwargs)\n    File \"c:\\Users\\Soheil\\anaconda3\\envs\\prime\\lib\\site-packages\\keras\\utils\\traceback_utils.py\", line 64, in error_handler\n      return fn(*args, **kwargs)\n    File \"c:\\Users\\Soheil\\anaconda3\\envs\\prime\\lib\\site-packages\\keras\\engine\\base_layer.py\", line 1014, in __call__\n      outputs = call_fn(inputs, *args, **kwargs)\n    File \"c:\\Users\\Soheil\\anaconda3\\envs\\prime\\lib\\site-packages\\keras\\utils\\traceback_utils.py\", line 92, in error_handler\n      return fn(*args, **kwargs)\n    File \"c:\\Users\\Soheil\\anaconda3\\envs\\prime\\lib\\site-packages\\keras\\engine\\functional.py\", line 458, in call\n      return self._run_internal_graph(\n    File \"c:\\Users\\Soheil\\anaconda3\\envs\\prime\\lib\\site-packages\\keras\\engine\\functional.py\", line 596, in _run_internal_graph\n      outputs = node.layer(*args, **kwargs)\n    File \"c:\\Users\\Soheil\\anaconda3\\envs\\prime\\lib\\site-packages\\keras\\utils\\traceback_utils.py\", line 64, in error_handler\n      return fn(*args, **kwargs)\n    File \"c:\\Users\\Soheil\\anaconda3\\envs\\prime\\lib\\site-packages\\keras\\engine\\base_layer.py\", line 1014, in __call__\n      outputs = call_fn(inputs, *args, **kwargs)\n    File \"c:\\Users\\Soheil\\anaconda3\\envs\\prime\\lib\\site-packages\\keras\\utils\\traceback_utils.py\", line 92, in error_handler\n      return fn(*args, **kwargs)\n    File \"c:\\Users\\Soheil\\anaconda3\\envs\\prime\\lib\\site-packages\\keras\\layers\\core\\dense.py\", line 235, in call\n      outputs = self.activation(outputs)\n    File \"c:\\Users\\Soheil\\anaconda3\\envs\\prime\\lib\\site-packages\\keras\\activations.py\", line 80, in softmax\n      output = tf.nn.softmax(x, axis=axis)\nNode: 'transformer/model_1/dense_4/Softmax'\n2 root error(s) found.\n  (0) RESOURCE_EXHAUSTED:  OOM when allocating tensor with shape[32,49,100000] and type float on /job:localhost/replica:0/task:0/device:GPU:0 by allocator GPU_0_bfc\n\t [[{{node transformer/model_1/dense_4/Softmax}}]]\nHint: If you want to see a list of allocated tensors when OOM happens, add report_tensor_allocations_upon_oom to RunOptions for current allocation info. This isn't available when running in Eager mode.\n\n\t [[broadcast_weights_1/assert_broadcastable/AssertGuard/pivot_f/_15/_85]]\nHint: If you want to see a list of allocated tensors when OOM happens, add report_tensor_allocations_upon_oom to RunOptions for current allocation info. This isn't available when running in Eager mode.\n\n  (1) RESOURCE_EXHAUSTED:  OOM when allocating tensor with shape[32,49,100000] and type float on /job:localhost/replica:0/task:0/device:GPU:0 by allocator GPU_0_bfc\n\t [[{{node transformer/model_1/dense_4/Softmax}}]]\nHint: If you want to see a list of allocated tensors when OOM happens, add report_tensor_allocations_upon_oom to RunOptions for current allocation info. This isn't available when running in Eager mode.\n\n0 successful operations.\n0 derived errors ignored. [Op:__inference_train_function_2338970]",
     "output_type": "error",
     "traceback": [
      "\u001b[1;31m---------------------------------------------------------------------------\u001b[0m",
      "\u001b[1;31mResourceExhaustedError\u001b[0m                    Traceback (most recent call last)",
      "Cell \u001b[1;32mIn [66], line 5\u001b[0m\n\u001b[0;32m      2\u001b[0m transformer\u001b[39m.\u001b[39mcompile(\u001b[39m\"\u001b[39m\u001b[39madam\u001b[39m\u001b[39m\"\u001b[39m, loss\u001b[39m=\u001b[39m\u001b[39m\"\u001b[39m\u001b[39msparse_categorical_crossentropy\u001b[39m\u001b[39m\"\u001b[39m, metrics\u001b[39m=\u001b[39m[\u001b[39m\"\u001b[39m\u001b[39maccuracy\u001b[39m\u001b[39m\"\u001b[39m])\n\u001b[0;32m      4\u001b[0m \u001b[39m# Train the model\u001b[39;00m\n\u001b[1;32m----> 5\u001b[0m transformer\u001b[39m.\u001b[39;49mfit(ds, epochs\u001b[39m=\u001b[39;49m\u001b[39m5\u001b[39;49m)\n",
      "File \u001b[1;32mc:\\Users\\Soheil\\anaconda3\\envs\\prime\\lib\\site-packages\\keras\\utils\\traceback_utils.py:67\u001b[0m, in \u001b[0;36mfilter_traceback.<locals>.error_handler\u001b[1;34m(*args, **kwargs)\u001b[0m\n\u001b[0;32m     65\u001b[0m \u001b[39mexcept\u001b[39;00m \u001b[39mException\u001b[39;00m \u001b[39mas\u001b[39;00m e:  \u001b[39m# pylint: disable=broad-except\u001b[39;00m\n\u001b[0;32m     66\u001b[0m   filtered_tb \u001b[39m=\u001b[39m _process_traceback_frames(e\u001b[39m.\u001b[39m__traceback__)\n\u001b[1;32m---> 67\u001b[0m   \u001b[39mraise\u001b[39;00m e\u001b[39m.\u001b[39mwith_traceback(filtered_tb) \u001b[39mfrom\u001b[39;00m \u001b[39mNone\u001b[39m\n\u001b[0;32m     68\u001b[0m \u001b[39mfinally\u001b[39;00m:\n\u001b[0;32m     69\u001b[0m   \u001b[39mdel\u001b[39;00m filtered_tb\n",
      "File \u001b[1;32mc:\\Users\\Soheil\\anaconda3\\envs\\prime\\lib\\site-packages\\tensorflow\\python\\eager\\execute.py:54\u001b[0m, in \u001b[0;36mquick_execute\u001b[1;34m(op_name, num_outputs, inputs, attrs, ctx, name)\u001b[0m\n\u001b[0;32m     52\u001b[0m \u001b[39mtry\u001b[39;00m:\n\u001b[0;32m     53\u001b[0m   ctx\u001b[39m.\u001b[39mensure_initialized()\n\u001b[1;32m---> 54\u001b[0m   tensors \u001b[39m=\u001b[39m pywrap_tfe\u001b[39m.\u001b[39mTFE_Py_Execute(ctx\u001b[39m.\u001b[39m_handle, device_name, op_name,\n\u001b[0;32m     55\u001b[0m                                       inputs, attrs, num_outputs)\n\u001b[0;32m     56\u001b[0m \u001b[39mexcept\u001b[39;00m core\u001b[39m.\u001b[39m_NotOkStatusException \u001b[39mas\u001b[39;00m e:\n\u001b[0;32m     57\u001b[0m   \u001b[39mif\u001b[39;00m name \u001b[39mis\u001b[39;00m \u001b[39mnot\u001b[39;00m \u001b[39mNone\u001b[39;00m:\n",
      "\u001b[1;31mResourceExhaustedError\u001b[0m: Graph execution error:\n\nDetected at node 'transformer/model_1/dense_4/Softmax' defined at (most recent call last):\n    File \"c:\\Users\\Soheil\\anaconda3\\envs\\prime\\lib\\runpy.py\", line 196, in _run_module_as_main\n      return _run_code(code, main_globals, None,\n    File \"c:\\Users\\Soheil\\anaconda3\\envs\\prime\\lib\\runpy.py\", line 86, in _run_code\n      exec(code, run_globals)\n    File \"c:\\Users\\Soheil\\anaconda3\\envs\\prime\\lib\\site-packages\\ipykernel_launcher.py\", line 17, in <module>\n      app.launch_new_instance()\n    File \"c:\\Users\\Soheil\\anaconda3\\envs\\prime\\lib\\site-packages\\traitlets\\config\\application.py\", line 978, in launch_instance\n      app.start()\n    File \"c:\\Users\\Soheil\\anaconda3\\envs\\prime\\lib\\site-packages\\ipykernel\\kernelapp.py\", line 712, in start\n      self.io_loop.start()\n    File \"c:\\Users\\Soheil\\anaconda3\\envs\\prime\\lib\\site-packages\\tornado\\platform\\asyncio.py\", line 215, in start\n      self.asyncio_loop.run_forever()\n    File \"c:\\Users\\Soheil\\anaconda3\\envs\\prime\\lib\\asyncio\\base_events.py\", line 600, in run_forever\n      self._run_once()\n    File \"c:\\Users\\Soheil\\anaconda3\\envs\\prime\\lib\\asyncio\\base_events.py\", line 1896, in _run_once\n      handle._run()\n    File \"c:\\Users\\Soheil\\anaconda3\\envs\\prime\\lib\\asyncio\\events.py\", line 80, in _run\n      self._context.run(self._callback, *self._args)\n    File \"c:\\Users\\Soheil\\anaconda3\\envs\\prime\\lib\\site-packages\\ipykernel\\kernelbase.py\", line 510, in dispatch_queue\n      await self.process_one()\n    File \"c:\\Users\\Soheil\\anaconda3\\envs\\prime\\lib\\site-packages\\ipykernel\\kernelbase.py\", line 499, in process_one\n      await dispatch(*args)\n    File \"c:\\Users\\Soheil\\anaconda3\\envs\\prime\\lib\\site-packages\\ipykernel\\kernelbase.py\", line 406, in dispatch_shell\n      await result\n    File \"c:\\Users\\Soheil\\anaconda3\\envs\\prime\\lib\\site-packages\\ipykernel\\kernelbase.py\", line 730, in execute_request\n      reply_content = await reply_content\n    File \"c:\\Users\\Soheil\\anaconda3\\envs\\prime\\lib\\site-packages\\ipykernel\\ipkernel.py\", line 383, in do_execute\n      res = shell.run_cell(\n    File \"c:\\Users\\Soheil\\anaconda3\\envs\\prime\\lib\\site-packages\\ipykernel\\zmqshell.py\", line 528, in run_cell\n      return super().run_cell(*args, **kwargs)\n    File \"c:\\Users\\Soheil\\anaconda3\\envs\\prime\\lib\\site-packages\\IPython\\core\\interactiveshell.py\", line 2885, in run_cell\n      result = self._run_cell(\n    File \"c:\\Users\\Soheil\\anaconda3\\envs\\prime\\lib\\site-packages\\IPython\\core\\interactiveshell.py\", line 2940, in _run_cell\n      return runner(coro)\n    File \"c:\\Users\\Soheil\\anaconda3\\envs\\prime\\lib\\site-packages\\IPython\\core\\async_helpers.py\", line 129, in _pseudo_sync_runner\n      coro.send(None)\n    File \"c:\\Users\\Soheil\\anaconda3\\envs\\prime\\lib\\site-packages\\IPython\\core\\interactiveshell.py\", line 3139, in run_cell_async\n      has_raised = await self.run_ast_nodes(code_ast.body, cell_name,\n    File \"c:\\Users\\Soheil\\anaconda3\\envs\\prime\\lib\\site-packages\\IPython\\core\\interactiveshell.py\", line 3318, in run_ast_nodes\n      if await self.run_code(code, result, async_=asy):\n    File \"c:\\Users\\Soheil\\anaconda3\\envs\\prime\\lib\\site-packages\\IPython\\core\\interactiveshell.py\", line 3378, in run_code\n      exec(code_obj, self.user_global_ns, self.user_ns)\n    File \"C:\\Users\\Soheil\\AppData\\Local\\Temp\\ipykernel_24552\\1840114185.py\", line 5, in <module>\n      transformer.fit(ds, epochs=5)      # Choose at least 30 for epoch\n    File \"c:\\Users\\Soheil\\anaconda3\\envs\\prime\\lib\\site-packages\\keras\\utils\\traceback_utils.py\", line 64, in error_handler\n      return fn(*args, **kwargs)\n    File \"c:\\Users\\Soheil\\anaconda3\\envs\\prime\\lib\\site-packages\\keras\\engine\\training.py\", line 1409, in fit\n      tmp_logs = self.train_function(iterator)\n    File \"c:\\Users\\Soheil\\anaconda3\\envs\\prime\\lib\\site-packages\\keras\\engine\\training.py\", line 1051, in train_function\n      return step_function(self, iterator)\n    File \"c:\\Users\\Soheil\\anaconda3\\envs\\prime\\lib\\site-packages\\keras\\engine\\training.py\", line 1040, in step_function\n      outputs = model.distribute_strategy.run(run_step, args=(data,))\n    File \"c:\\Users\\Soheil\\anaconda3\\envs\\prime\\lib\\site-packages\\keras\\engine\\training.py\", line 1030, in run_step\n      outputs = model.train_step(data)\n    File \"c:\\Users\\Soheil\\anaconda3\\envs\\prime\\lib\\site-packages\\keras\\engine\\training.py\", line 889, in train_step\n      y_pred = self(x, training=True)\n    File \"c:\\Users\\Soheil\\anaconda3\\envs\\prime\\lib\\site-packages\\keras\\utils\\traceback_utils.py\", line 64, in error_handler\n      return fn(*args, **kwargs)\n    File \"c:\\Users\\Soheil\\anaconda3\\envs\\prime\\lib\\site-packages\\keras\\engine\\training.py\", line 490, in __call__\n      return super().__call__(*args, **kwargs)\n    File \"c:\\Users\\Soheil\\anaconda3\\envs\\prime\\lib\\site-packages\\keras\\utils\\traceback_utils.py\", line 64, in error_handler\n      return fn(*args, **kwargs)\n    File \"c:\\Users\\Soheil\\anaconda3\\envs\\prime\\lib\\site-packages\\keras\\engine\\base_layer.py\", line 1014, in __call__\n      outputs = call_fn(inputs, *args, **kwargs)\n    File \"c:\\Users\\Soheil\\anaconda3\\envs\\prime\\lib\\site-packages\\keras\\utils\\traceback_utils.py\", line 92, in error_handler\n      return fn(*args, **kwargs)\n    File \"c:\\Users\\Soheil\\anaconda3\\envs\\prime\\lib\\site-packages\\keras\\engine\\functional.py\", line 458, in call\n      return self._run_internal_graph(\n    File \"c:\\Users\\Soheil\\anaconda3\\envs\\prime\\lib\\site-packages\\keras\\engine\\functional.py\", line 596, in _run_internal_graph\n      outputs = node.layer(*args, **kwargs)\n    File \"c:\\Users\\Soheil\\anaconda3\\envs\\prime\\lib\\site-packages\\keras\\utils\\traceback_utils.py\", line 64, in error_handler\n      return fn(*args, **kwargs)\n    File \"c:\\Users\\Soheil\\anaconda3\\envs\\prime\\lib\\site-packages\\keras\\engine\\training.py\", line 490, in __call__\n      return super().__call__(*args, **kwargs)\n    File \"c:\\Users\\Soheil\\anaconda3\\envs\\prime\\lib\\site-packages\\keras\\utils\\traceback_utils.py\", line 64, in error_handler\n      return fn(*args, **kwargs)\n    File \"c:\\Users\\Soheil\\anaconda3\\envs\\prime\\lib\\site-packages\\keras\\engine\\base_layer.py\", line 1014, in __call__\n      outputs = call_fn(inputs, *args, **kwargs)\n    File \"c:\\Users\\Soheil\\anaconda3\\envs\\prime\\lib\\site-packages\\keras\\utils\\traceback_utils.py\", line 92, in error_handler\n      return fn(*args, **kwargs)\n    File \"c:\\Users\\Soheil\\anaconda3\\envs\\prime\\lib\\site-packages\\keras\\engine\\functional.py\", line 458, in call\n      return self._run_internal_graph(\n    File \"c:\\Users\\Soheil\\anaconda3\\envs\\prime\\lib\\site-packages\\keras\\engine\\functional.py\", line 596, in _run_internal_graph\n      outputs = node.layer(*args, **kwargs)\n    File \"c:\\Users\\Soheil\\anaconda3\\envs\\prime\\lib\\site-packages\\keras\\utils\\traceback_utils.py\", line 64, in error_handler\n      return fn(*args, **kwargs)\n    File \"c:\\Users\\Soheil\\anaconda3\\envs\\prime\\lib\\site-packages\\keras\\engine\\base_layer.py\", line 1014, in __call__\n      outputs = call_fn(inputs, *args, **kwargs)\n    File \"c:\\Users\\Soheil\\anaconda3\\envs\\prime\\lib\\site-packages\\keras\\utils\\traceback_utils.py\", line 92, in error_handler\n      return fn(*args, **kwargs)\n    File \"c:\\Users\\Soheil\\anaconda3\\envs\\prime\\lib\\site-packages\\keras\\layers\\core\\dense.py\", line 235, in call\n      outputs = self.activation(outputs)\n    File \"c:\\Users\\Soheil\\anaconda3\\envs\\prime\\lib\\site-packages\\keras\\activations.py\", line 80, in softmax\n      output = tf.nn.softmax(x, axis=axis)\nNode: 'transformer/model_1/dense_4/Softmax'\nDetected at node 'transformer/model_1/dense_4/Softmax' defined at (most recent call last):\n    File \"c:\\Users\\Soheil\\anaconda3\\envs\\prime\\lib\\runpy.py\", line 196, in _run_module_as_main\n      return _run_code(code, main_globals, None,\n    File \"c:\\Users\\Soheil\\anaconda3\\envs\\prime\\lib\\runpy.py\", line 86, in _run_code\n      exec(code, run_globals)\n    File \"c:\\Users\\Soheil\\anaconda3\\envs\\prime\\lib\\site-packages\\ipykernel_launcher.py\", line 17, in <module>\n      app.launch_new_instance()\n    File \"c:\\Users\\Soheil\\anaconda3\\envs\\prime\\lib\\site-packages\\traitlets\\config\\application.py\", line 978, in launch_instance\n      app.start()\n    File \"c:\\Users\\Soheil\\anaconda3\\envs\\prime\\lib\\site-packages\\ipykernel\\kernelapp.py\", line 712, in start\n      self.io_loop.start()\n    File \"c:\\Users\\Soheil\\anaconda3\\envs\\prime\\lib\\site-packages\\tornado\\platform\\asyncio.py\", line 215, in start\n      self.asyncio_loop.run_forever()\n    File \"c:\\Users\\Soheil\\anaconda3\\envs\\prime\\lib\\asyncio\\base_events.py\", line 600, in run_forever\n      self._run_once()\n    File \"c:\\Users\\Soheil\\anaconda3\\envs\\prime\\lib\\asyncio\\base_events.py\", line 1896, in _run_once\n      handle._run()\n    File \"c:\\Users\\Soheil\\anaconda3\\envs\\prime\\lib\\asyncio\\events.py\", line 80, in _run\n      self._context.run(self._callback, *self._args)\n    File \"c:\\Users\\Soheil\\anaconda3\\envs\\prime\\lib\\site-packages\\ipykernel\\kernelbase.py\", line 510, in dispatch_queue\n      await self.process_one()\n    File \"c:\\Users\\Soheil\\anaconda3\\envs\\prime\\lib\\site-packages\\ipykernel\\kernelbase.py\", line 499, in process_one\n      await dispatch(*args)\n    File \"c:\\Users\\Soheil\\anaconda3\\envs\\prime\\lib\\site-packages\\ipykernel\\kernelbase.py\", line 406, in dispatch_shell\n      await result\n    File \"c:\\Users\\Soheil\\anaconda3\\envs\\prime\\lib\\site-packages\\ipykernel\\kernelbase.py\", line 730, in execute_request\n      reply_content = await reply_content\n    File \"c:\\Users\\Soheil\\anaconda3\\envs\\prime\\lib\\site-packages\\ipykernel\\ipkernel.py\", line 383, in do_execute\n      res = shell.run_cell(\n    File \"c:\\Users\\Soheil\\anaconda3\\envs\\prime\\lib\\site-packages\\ipykernel\\zmqshell.py\", line 528, in run_cell\n      return super().run_cell(*args, **kwargs)\n    File \"c:\\Users\\Soheil\\anaconda3\\envs\\prime\\lib\\site-packages\\IPython\\core\\interactiveshell.py\", line 2885, in run_cell\n      result = self._run_cell(\n    File \"c:\\Users\\Soheil\\anaconda3\\envs\\prime\\lib\\site-packages\\IPython\\core\\interactiveshell.py\", line 2940, in _run_cell\n      return runner(coro)\n    File \"c:\\Users\\Soheil\\anaconda3\\envs\\prime\\lib\\site-packages\\IPython\\core\\async_helpers.py\", line 129, in _pseudo_sync_runner\n      coro.send(None)\n    File \"c:\\Users\\Soheil\\anaconda3\\envs\\prime\\lib\\site-packages\\IPython\\core\\interactiveshell.py\", line 3139, in run_cell_async\n      has_raised = await self.run_ast_nodes(code_ast.body, cell_name,\n    File \"c:\\Users\\Soheil\\anaconda3\\envs\\prime\\lib\\site-packages\\IPython\\core\\interactiveshell.py\", line 3318, in run_ast_nodes\n      if await self.run_code(code, result, async_=asy):\n    File \"c:\\Users\\Soheil\\anaconda3\\envs\\prime\\lib\\site-packages\\IPython\\core\\interactiveshell.py\", line 3378, in run_code\n      exec(code_obj, self.user_global_ns, self.user_ns)\n    File \"C:\\Users\\Soheil\\AppData\\Local\\Temp\\ipykernel_24552\\1840114185.py\", line 5, in <module>\n      transformer.fit(ds, epochs=5)      # Choose at least 30 for epoch\n    File \"c:\\Users\\Soheil\\anaconda3\\envs\\prime\\lib\\site-packages\\keras\\utils\\traceback_utils.py\", line 64, in error_handler\n      return fn(*args, **kwargs)\n    File \"c:\\Users\\Soheil\\anaconda3\\envs\\prime\\lib\\site-packages\\keras\\engine\\training.py\", line 1409, in fit\n      tmp_logs = self.train_function(iterator)\n    File \"c:\\Users\\Soheil\\anaconda3\\envs\\prime\\lib\\site-packages\\keras\\engine\\training.py\", line 1051, in train_function\n      return step_function(self, iterator)\n    File \"c:\\Users\\Soheil\\anaconda3\\envs\\prime\\lib\\site-packages\\keras\\engine\\training.py\", line 1040, in step_function\n      outputs = model.distribute_strategy.run(run_step, args=(data,))\n    File \"c:\\Users\\Soheil\\anaconda3\\envs\\prime\\lib\\site-packages\\keras\\engine\\training.py\", line 1030, in run_step\n      outputs = model.train_step(data)\n    File \"c:\\Users\\Soheil\\anaconda3\\envs\\prime\\lib\\site-packages\\keras\\engine\\training.py\", line 889, in train_step\n      y_pred = self(x, training=True)\n    File \"c:\\Users\\Soheil\\anaconda3\\envs\\prime\\lib\\site-packages\\keras\\utils\\traceback_utils.py\", line 64, in error_handler\n      return fn(*args, **kwargs)\n    File \"c:\\Users\\Soheil\\anaconda3\\envs\\prime\\lib\\site-packages\\keras\\engine\\training.py\", line 490, in __call__\n      return super().__call__(*args, **kwargs)\n    File \"c:\\Users\\Soheil\\anaconda3\\envs\\prime\\lib\\site-packages\\keras\\utils\\traceback_utils.py\", line 64, in error_handler\n      return fn(*args, **kwargs)\n    File \"c:\\Users\\Soheil\\anaconda3\\envs\\prime\\lib\\site-packages\\keras\\engine\\base_layer.py\", line 1014, in __call__\n      outputs = call_fn(inputs, *args, **kwargs)\n    File \"c:\\Users\\Soheil\\anaconda3\\envs\\prime\\lib\\site-packages\\keras\\utils\\traceback_utils.py\", line 92, in error_handler\n      return fn(*args, **kwargs)\n    File \"c:\\Users\\Soheil\\anaconda3\\envs\\prime\\lib\\site-packages\\keras\\engine\\functional.py\", line 458, in call\n      return self._run_internal_graph(\n    File \"c:\\Users\\Soheil\\anaconda3\\envs\\prime\\lib\\site-packages\\keras\\engine\\functional.py\", line 596, in _run_internal_graph\n      outputs = node.layer(*args, **kwargs)\n    File \"c:\\Users\\Soheil\\anaconda3\\envs\\prime\\lib\\site-packages\\keras\\utils\\traceback_utils.py\", line 64, in error_handler\n      return fn(*args, **kwargs)\n    File \"c:\\Users\\Soheil\\anaconda3\\envs\\prime\\lib\\site-packages\\keras\\engine\\training.py\", line 490, in __call__\n      return super().__call__(*args, **kwargs)\n    File \"c:\\Users\\Soheil\\anaconda3\\envs\\prime\\lib\\site-packages\\keras\\utils\\traceback_utils.py\", line 64, in error_handler\n      return fn(*args, **kwargs)\n    File \"c:\\Users\\Soheil\\anaconda3\\envs\\prime\\lib\\site-packages\\keras\\engine\\base_layer.py\", line 1014, in __call__\n      outputs = call_fn(inputs, *args, **kwargs)\n    File \"c:\\Users\\Soheil\\anaconda3\\envs\\prime\\lib\\site-packages\\keras\\utils\\traceback_utils.py\", line 92, in error_handler\n      return fn(*args, **kwargs)\n    File \"c:\\Users\\Soheil\\anaconda3\\envs\\prime\\lib\\site-packages\\keras\\engine\\functional.py\", line 458, in call\n      return self._run_internal_graph(\n    File \"c:\\Users\\Soheil\\anaconda3\\envs\\prime\\lib\\site-packages\\keras\\engine\\functional.py\", line 596, in _run_internal_graph\n      outputs = node.layer(*args, **kwargs)\n    File \"c:\\Users\\Soheil\\anaconda3\\envs\\prime\\lib\\site-packages\\keras\\utils\\traceback_utils.py\", line 64, in error_handler\n      return fn(*args, **kwargs)\n    File \"c:\\Users\\Soheil\\anaconda3\\envs\\prime\\lib\\site-packages\\keras\\engine\\base_layer.py\", line 1014, in __call__\n      outputs = call_fn(inputs, *args, **kwargs)\n    File \"c:\\Users\\Soheil\\anaconda3\\envs\\prime\\lib\\site-packages\\keras\\utils\\traceback_utils.py\", line 92, in error_handler\n      return fn(*args, **kwargs)\n    File \"c:\\Users\\Soheil\\anaconda3\\envs\\prime\\lib\\site-packages\\keras\\layers\\core\\dense.py\", line 235, in call\n      outputs = self.activation(outputs)\n    File \"c:\\Users\\Soheil\\anaconda3\\envs\\prime\\lib\\site-packages\\keras\\activations.py\", line 80, in softmax\n      output = tf.nn.softmax(x, axis=axis)\nNode: 'transformer/model_1/dense_4/Softmax'\n2 root error(s) found.\n  (0) RESOURCE_EXHAUSTED:  OOM when allocating tensor with shape[32,49,100000] and type float on /job:localhost/replica:0/task:0/device:GPU:0 by allocator GPU_0_bfc\n\t [[{{node transformer/model_1/dense_4/Softmax}}]]\nHint: If you want to see a list of allocated tensors when OOM happens, add report_tensor_allocations_upon_oom to RunOptions for current allocation info. This isn't available when running in Eager mode.\n\n\t [[broadcast_weights_1/assert_broadcastable/AssertGuard/pivot_f/_15/_85]]\nHint: If you want to see a list of allocated tensors when OOM happens, add report_tensor_allocations_upon_oom to RunOptions for current allocation info. This isn't available when running in Eager mode.\n\n  (1) RESOURCE_EXHAUSTED:  OOM when allocating tensor with shape[32,49,100000] and type float on /job:localhost/replica:0/task:0/device:GPU:0 by allocator GPU_0_bfc\n\t [[{{node transformer/model_1/dense_4/Softmax}}]]\nHint: If you want to see a list of allocated tensors when OOM happens, add report_tensor_allocations_upon_oom to RunOptions for current allocation info. This isn't available when running in Eager mode.\n\n0 successful operations.\n0 derived errors ignored. [Op:__inference_train_function_2338970]"
     ]
    }
   ],
   "source": [
    "# Compile the model\n",
    "transformer.compile(\"adam\", loss=\"sparse_categorical_crossentropy\", metrics=[\"accuracy\"])\n",
    "\n",
    "# Train the model\n",
    "transformer.fit(ds, epochs=5)      # Choose at least 30 for epoch"
   ]
  },
  {
   "cell_type": "code",
   "execution_count": null,
   "metadata": {},
   "outputs": [],
   "source": [
    "# Save model\n",
    "transformer.save(\"./saved model/transformer_model.h5\")\n",
    "\n",
    "# Load the model\n",
    "#transformer = tf.keras.models.load_model(\"./saved model/transformer_model\")"
   ]
  },
  {
   "cell_type": "code",
   "execution_count": null,
   "metadata": {},
   "outputs": [],
   "source": []
  },
  {
   "cell_type": "markdown",
   "metadata": {},
   "source": [
    "<br>\n",
    "\n",
    "### Evaluation\n",
    "\n",
    "---"
   ]
  },
  {
   "cell_type": "code",
   "execution_count": null,
   "metadata": {},
   "outputs": [],
   "source": []
  },
  {
   "cell_type": "markdown",
   "metadata": {},
   "source": [
    "<br>\n",
    "\n",
    "### Testing and Prediction\n",
    "\n",
    "---"
   ]
  },
  {
   "cell_type": "code",
   "execution_count": null,
   "metadata": {},
   "outputs": [],
   "source": [
    "# Spanish vocabulary\n",
    "spa_vocab = spa_vectorization.get_vocabulary()\n",
    "\n",
    "# Int2Word dictionary\n",
    "spa_index_lookup = dict(zip(range(len(spa_vocab)), spa_vocab))\n",
    "\n",
    "# Set the maximum decoded sequence length \n",
    "max_decoded_sentence_length = 20"
   ]
  },
  {
   "cell_type": "code",
   "execution_count": null,
   "metadata": {},
   "outputs": [],
   "source": [
    "# Function for decoding sequences\n",
    "def decode_sequence(input_sentence):\n",
    "\n",
    "    # Vectorize input english sequence\n",
    "    tokenized_input_sentence = eng_vectorization([input_sentence])\n",
    "    \n",
    "    # Initialize the decoded sentence with [start] token\n",
    "    decoded_sentence = \"[start]\"\n",
    "\n",
    "    # Loop for max_decoded_sentence_length times\n",
    "    for i in range(max_decoded_sentence_length):\n",
    "\n",
    "        # Vectorize decoded sentence\n",
    "        tokenized_target_sentence = spa_vectorization([decoded_sentence])[:, :-1]\n",
    "        \n",
    "        # Predict the [input sequence, target sequence] using transformer\n",
    "        predictions = transformer([tokenized_input_sentence, tokenized_target_sentence])\n",
    "\n",
    "        # Get the argmax of prediction\n",
    "        sampled_token_index = np.argmax(predictions[0, i, :])\n",
    "\n",
    "        # Get the word of the argmax\n",
    "        sampled_token = spa_index_lookup[sampled_token_index]\n",
    "\n",
    "        # Append the word to the decoded sentence\n",
    "        decoded_sentence += \" \" + sampled_token\n",
    "\n",
    "        # If the sampled token is [end], break the loop\n",
    "        if sampled_token == \"[end]\":\n",
    "            break\n",
    "        \n",
    "    return decoded_sentence"
   ]
  },
  {
   "cell_type": "code",
   "execution_count": null,
   "metadata": {},
   "outputs": [],
   "source": [
    "# List of all english sequences\n",
    "test_eng_texts = [pair[0] for pair in test_pairs]\n",
    "\n",
    "# Predict for N times\n",
    "for _ in range(5):\n",
    "\n",
    "    # Choose a random english-spanish sequence\n",
    "    input_sentence = random.choice(test_pairs)\n",
    "\n",
    "    # Predict the sequence\n",
    "    translated = decode_sequence(input_sentence[0])\n",
    "\n",
    "    # Report\n",
    "    print(\"INPUT:               \", input_sentence[0])\n",
    "    print(\"OUTPUT (TRUE):       \", input_sentence[1])\n",
    "    print(\"OUTPUT (PREDICTION): \", translated, \"\\n\")"
   ]
  },
  {
   "cell_type": "code",
   "execution_count": null,
   "metadata": {},
   "outputs": [],
   "source": []
  }
 ],
 "metadata": {
  "kernelspec": {
   "display_name": "Python 3.8.13 ('prime')",
   "language": "python",
   "name": "python3"
  },
  "language_info": {
   "codemirror_mode": {
    "name": "ipython",
    "version": 3
   },
   "file_extension": ".py",
   "mimetype": "text/x-python",
   "name": "python",
   "nbconvert_exporter": "python",
   "pygments_lexer": "ipython3",
   "version": "3.10.6"
  },
  "orig_nbformat": 4,
  "vscode": {
   "interpreter": {
    "hash": "4bf5a16b79f3cb90985e3628257d567fbd7649cb1685a1c31906a530b639e1e3"
   }
  }
 },
 "nbformat": 4,
 "nbformat_minor": 2
}
